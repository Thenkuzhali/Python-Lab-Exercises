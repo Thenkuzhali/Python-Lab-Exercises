{
 "cells": [
  {
   "cell_type": "markdown",
   "id": "280d02dc",
   "metadata": {},
   "source": [
    "# Lab2. Python Loops"
   ]
  },
  {
   "cell_type": "markdown",
   "id": "239d91c2",
   "metadata": {},
   "source": [
    "### 1. Write a program that accepts numbers continously as long as the number is positive and prints the sum of the numbers read(Use while loop). A sample user interaction will be:\n",
    "#### Enter a number:2\n",
    "#### Enter a number:1\n",
    "#### Enter a number:4\n",
    "#### Enter a number:6\n",
    "#### Enter a number:-10\n",
    "#### sum = 13"
   ]
  },
  {
   "cell_type": "code",
   "execution_count": 1,
   "id": "c2ae6d85",
   "metadata": {},
   "outputs": [
    {
     "name": "stdout",
     "output_type": "stream",
     "text": [
      "Enter a number:2\n",
      "Enter a number:1\n",
      "Enter a number:4\n",
      "Enter a number:6\n",
      "Enter a number:-10\n",
      "sum =  13\n"
     ]
    }
   ],
   "source": [
    "num = 0\n",
    "while True:\n",
    "    inp = int(input('Enter a number:'))\n",
    "    if inp <0:\n",
    "        break\n",
    "    num += inp\n",
    "print('sum = ', num)"
   ]
  },
  {
   "cell_type": "markdown",
   "id": "c01fb80c",
   "metadata": {},
   "source": [
    "### 2. Write a Program to take the values of two integers m and n from the user. Calculate the sum of even number between m and n(including both m and n). Please note that value of m must be less than value of n. If m>n. then you must  print a message \"Value of m,n and sum.(use while loop). The program should continue until user types 'q' to quit the program."
   ]
  },
  {
   "cell_type": "markdown",
   "id": "474fa376",
   "metadata": {},
   "source": [
    "#### Sample user interaction:\n",
    "#### Enter m:1\n",
    "#### Enter n:10\n",
    "#### Sum of even numbers: 20\n",
    "#### Do you want to quit(Type q)?:\n",
    "\n",
    "#### Enter m:2\n",
    "#### Enter n:10\n",
    "#### Sum of even numbers: 20\n",
    "#### Do you want to quit(Type q)?:\n",
    "\n",
    "#### Enter m:20\n",
    "#### Enter n:10\n",
    "#### Sum of even numbers: value of m should be less than n\n",
    "#### Do you want to quit(Type q)?:q\n"
   ]
  },
  {
   "cell_type": "code",
   "execution_count": 3,
   "id": "9beff2ee",
   "metadata": {},
   "outputs": [
    {
     "name": "stdout",
     "output_type": "stream",
     "text": [
      "Enter m:1\n",
      "Enter n:10\n",
      "sum of even numbers: 20\n",
      "Do you want to quit(Type q)?:\n",
      "Enter m:2\n",
      "Enter n:10\n",
      "sum of even numbers: 20\n",
      "Do you want to quit(Type q)?:20\n",
      "Enter m:20\n",
      "Enter n:10\n",
      "value of m should be less than n\n",
      "Do you want to quit(Type q)?:q\n"
     ]
    }
   ],
   "source": [
    "while True:\n",
    "    m = int(input('Enter m:'))\n",
    "    n = int(input('Enter n:'))\n",
    "    if m<n:\n",
    "        num = 0\n",
    "        for i in range(m,n):\n",
    "            if i%2==0:\n",
    "                num+=i\n",
    "        print('sum of even numbers:',num)\n",
    "            \n",
    "    elif m>n:\n",
    "        print('value of m should be less than n')\n",
    "    quit = input('Do you want to quit(Type q)?:')\n",
    "    if quit.casefold() == 'q':\n",
    "        break\n",
    "   \n",
    "            "
   ]
  },
  {
   "cell_type": "markdown",
   "id": "714805ae",
   "metadata": {},
   "source": [
    "### 3. Write a program to accept n and display its multiplication table. Value of n must be provided by the user.(Example: n* 1, n* 2,...n* 10)(use for loop)"
   ]
  },
  {
   "cell_type": "code",
   "execution_count": 5,
   "id": "ecf451fb",
   "metadata": {},
   "outputs": [
    {
     "name": "stdout",
     "output_type": "stream",
     "text": [
      "Enter n:7\n",
      "7*1=7\n",
      "7*2=14\n",
      "7*3=21\n",
      "7*4=28\n",
      "7*5=35\n",
      "7*6=42\n",
      "7*7=49\n",
      "7*8=56\n",
      "7*9=63\n",
      "7*10=70\n"
     ]
    }
   ],
   "source": [
    "n = int(input('Enter n:'))\n",
    "for i in range(1,11):\n",
    "    print(f'{n}*{i}={n*i}')"
   ]
  },
  {
   "cell_type": "markdown",
   "id": "64566c17",
   "metadata": {},
   "source": [
    "### 4. Write a Program that receives an integer and prints the sum of its digits. For example, an input 125 will print output 1+2+5 =8."
   ]
  },
  {
   "cell_type": "markdown",
   "id": "46ea08b3",
   "metadata": {},
   "source": [
    "#### Try out the following test cases\n",
    "#### 125\n",
    "#### 12\n",
    "#### 2\n",
    "#### -15"
   ]
  },
  {
   "cell_type": "code",
   "execution_count": 14,
   "id": "338c0459",
   "metadata": {},
   "outputs": [],
   "source": [
    "def SumOfDigits():\n",
    "    num = input('Enter a number:')\n",
    "    n = 0\n",
    "    for i in range(len(num)):\n",
    "        n += int(num[i])\n",
    "    print('The Sum of digits in the number is',n)\n",
    "    "
   ]
  },
  {
   "cell_type": "code",
   "execution_count": 15,
   "id": "9f59915b",
   "metadata": {},
   "outputs": [
    {
     "name": "stdout",
     "output_type": "stream",
     "text": [
      "Enter a number:125\n",
      "The Sum of digits in the number is 8\n"
     ]
    }
   ],
   "source": [
    "SumOfDigits()"
   ]
  },
  {
   "cell_type": "code",
   "execution_count": 16,
   "id": "9b877bf5",
   "metadata": {},
   "outputs": [
    {
     "name": "stdout",
     "output_type": "stream",
     "text": [
      "Enter a number:12\n",
      "The Sum of digits in the number is 3\n"
     ]
    }
   ],
   "source": [
    "SumOfDigits()"
   ]
  },
  {
   "cell_type": "code",
   "execution_count": 17,
   "id": "b7a54169",
   "metadata": {},
   "outputs": [
    {
     "name": "stdout",
     "output_type": "stream",
     "text": [
      "Enter a number:2\n",
      "The Sum of digits in the number is 2\n"
     ]
    }
   ],
   "source": [
    "SumOfDigits()"
   ]
  },
  {
   "cell_type": "markdown",
   "id": "ee61d062",
   "metadata": {},
   "source": [
    "### 5. Develop an application in python that repeatedly reads numbers until the user enters done. once done is entered, print out the total, count, and average of the numbers. If the user enters anything other than a number, detect their mistake using try and except and print an error message and skip to the next number."
   ]
  },
  {
   "cell_type": "code",
   "execution_count": 19,
   "id": "07d7f238",
   "metadata": {},
   "outputs": [
    {
     "name": "stdout",
     "output_type": "stream",
     "text": [
      "Enter a number:12\n",
      "Enter a number:13\n",
      "Enter a number:14\n",
      "Enter a number:sss\n",
      "Invalid Input.\n",
      "Total = 39.0, count = 3, average = 13.0\n",
      "Enter a number:15\n",
      "Enter a number:done\n"
     ]
    }
   ],
   "source": [
    "tot = 0\n",
    "count = 0\n",
    "avg = 0\n",
    "while True:\n",
    "    try:\n",
    "        num = input('Enter a number:')\n",
    "        if num.casefold() =='done':\n",
    "            break\n",
    "        value = float(num)\n",
    "        tot += value\n",
    "        count+=1\n",
    "        avg = tot/count\n",
    "    except:\n",
    "        print('Invalid Input.')\n",
    "        print('Total = {0}, count = {1}, average = {2}'.format(tot, count, avg))\n",
    "        \n",
    "        "
   ]
  },
  {
   "cell_type": "code",
   "execution_count": null,
   "id": "a78c016d",
   "metadata": {},
   "outputs": [],
   "source": []
  },
  {
   "cell_type": "code",
   "execution_count": null,
   "id": "9625caa7",
   "metadata": {},
   "outputs": [],
   "source": []
  }
 ],
 "metadata": {
  "kernelspec": {
   "display_name": "Python 3 (ipykernel)",
   "language": "python",
   "name": "python3"
  },
  "language_info": {
   "codemirror_mode": {
    "name": "ipython",
    "version": 3
   },
   "file_extension": ".py",
   "mimetype": "text/x-python",
   "name": "python",
   "nbconvert_exporter": "python",
   "pygments_lexer": "ipython3",
   "version": "3.9.13"
  }
 },
 "nbformat": 4,
 "nbformat_minor": 5
}
