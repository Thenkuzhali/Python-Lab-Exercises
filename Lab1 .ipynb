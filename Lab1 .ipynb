{
 "cells": [
  {
   "cell_type": "markdown",
   "id": "f52c8ffe",
   "metadata": {},
   "source": [
    "# Lab1. Python Basics and conditions"
   ]
  },
  {
   "cell_type": "markdown",
   "id": "6cf1192f",
   "metadata": {},
   "source": [
    "### 1. Write a program in python to input length and breadth of a rectangle and print the area and perimeter of it."
   ]
  },
  {
   "cell_type": "code",
   "execution_count": 2,
   "id": "628a5a6d",
   "metadata": {},
   "outputs": [],
   "source": [
    "def AreaPeri():\n",
    "    length = float(input('Enter length of the Rectangle: '))\n",
    "    breadth = float(input('Enter breadth of the Rectangle: '))\n",
    "    area = length * breadth\n",
    "    perimeter = 2*(length+breadth)\n",
    "    print('Area of Rectangle is ', round(area, 2))\n",
    "    print('Perimeter of Rectangle is ', round(perimeter, 2))"
   ]
  },
  {
   "cell_type": "code",
   "execution_count": 3,
   "id": "ac9d9a40",
   "metadata": {
    "scrolled": true
   },
   "outputs": [
    {
     "name": "stdout",
     "output_type": "stream",
     "text": [
      "Enter length of the Rectangle: 12\n",
      "Enter breadth of the Rectangle: 5\n",
      "Area of Rectangle is  60.0\n",
      "Perimeter of Rectangle is  34.0\n"
     ]
    }
   ],
   "source": [
    "AreaPeri() #testcase 1"
   ]
  },
  {
   "cell_type": "code",
   "execution_count": 4,
   "id": "12276ef2",
   "metadata": {},
   "outputs": [
    {
     "name": "stdout",
     "output_type": "stream",
     "text": [
      "Enter length of the Rectangle: 12.5\n",
      "Enter breadth of the Rectangle: 4.234\n",
      "Area of Rectangle is  52.92\n",
      "Perimeter of Rectangle is  33.47\n"
     ]
    }
   ],
   "source": [
    "AreaPeri() #test case 2"
   ]
  },
  {
   "cell_type": "markdown",
   "id": "fa3ee854",
   "metadata": {},
   "source": [
    "### 2. Write a program, which accepts annual basic salary of an employee and calculates and display the Income tax as per the following rules."
   ]
  },
  {
   "cell_type": "markdown",
   "id": "9ad9c8ae",
   "metadata": {},
   "source": [
    "#### If basic is less than Rs. 1,50,000/-, then Tax=0.\n",
    "#### If basic is from Rs. 1,50,000/- to Rs. 3,00,000/-, then tax is 20%.\n",
    "#### If basic is greater than Rs. 3,00,000/-, then tax is 30%.\n",
    "#### print name, annual income and tax.\n",
    "#### Write test case to validate all conditions"
   ]
  },
  {
   "cell_type": "code",
   "execution_count": 18,
   "id": "005ba999",
   "metadata": {},
   "outputs": [],
   "source": [
    "def display(name, AnnInc, Tax ):\n",
    "    print(f'''your name is {name},\n",
    "your Annual Income is Rs.{AnnInc},\n",
    "Tax to be paid is Rs.{Tax}''')\n",
    "    \n",
    "def IncomeTax():\n",
    "    name = input('Your Name:')\n",
    "    basic_pay = float(input('Basic salary: '))\n",
    "    if basic_pay<150000:\n",
    "        tax = 0\n",
    "        display(name, basic_pay-tax, tax)\n",
    "    elif (basic_pay>=150000) and (basic_pay<=300000):\n",
    "        tax = basic_pay * 0.2\n",
    "        display(name, basic_pay-tax, tax)\n",
    "    elif (basic_pay>300000):\n",
    "        tax = basic_pay * 0.3\n",
    "        display(name, basic_pay-tax, tax)"
   ]
  },
  {
   "cell_type": "code",
   "execution_count": 19,
   "id": "990bbe62",
   "metadata": {},
   "outputs": [
    {
     "name": "stdout",
     "output_type": "stream",
     "text": [
      "Your Name:John\n",
      "Basic salary: 149000\n",
      "your name is John,\n",
      "your Annual Income is Rs.149000.0,\n",
      "Tax to be paid is Rs.0\n"
     ]
    }
   ],
   "source": [
    "IncomeTax() #test case 1"
   ]
  },
  {
   "cell_type": "code",
   "execution_count": 20,
   "id": "27575968",
   "metadata": {},
   "outputs": [
    {
     "name": "stdout",
     "output_type": "stream",
     "text": [
      "Your Name:Rex\n",
      "Basic salary: 200000\n",
      "your name is Rex,\n",
      "your Annual Income is Rs.160000.0,\n",
      "Tax to be paid is Rs.40000.0\n"
     ]
    }
   ],
   "source": [
    "IncomeTax() #test case 2"
   ]
  },
  {
   "cell_type": "code",
   "execution_count": 22,
   "id": "1f4bbdc3",
   "metadata": {},
   "outputs": [
    {
     "name": "stdout",
     "output_type": "stream",
     "text": [
      "Your Name:Alex\n",
      "Basic salary: 400000\n",
      "your name is Alex,\n",
      "your Annual Income is Rs.280000.0,\n",
      "Tax to be paid is Rs.120000.0\n"
     ]
    }
   ],
   "source": [
    "IncomeTax() #test case 3"
   ]
  },
  {
   "cell_type": "markdown",
   "id": "8f8bd9c9",
   "metadata": {},
   "source": [
    "### 3. Write a Program to accept quantity and rate for three(3) items. compute the total sales amount. Also compute and print the discount as follows:"
   ]
  },
  {
   "cell_type": "markdown",
   "id": "ca422290",
   "metadata": {},
   "source": [
    "#### Amount >2000/-: 20% discount\n",
    "#### Amount between Rs. 1500/- to Rs.1999/-: 15% discount\n",
    "#### Amount between Rs. 1000/- to Rs.1499/-: 8% discount\n",
    "#### compute final amount to be paid to shop. \n",
    "#### print name, rate and quantity of  3 items. Then print total discount and and final amout to be paid to shop.\n",
    "#### Write 3 test cases to validate all conditions"
   ]
  },
  {
   "cell_type": "code",
   "execution_count": 30,
   "id": "0046682b",
   "metadata": {},
   "outputs": [],
   "source": [
    "def disp(name, quan, rte):\n",
    "    print(f'''Product Name: {name}\n",
    "Product Quatity: {quan}\n",
    "Product Rate: {rte}\n",
    "**************************************''')         "
   ]
  },
  {
   "cell_type": "code",
   "execution_count": 36,
   "id": "c377f918",
   "metadata": {},
   "outputs": [
    {
     "name": "stdout",
     "output_type": "stream",
     "text": [
      "Enter Name of the Product: Shirt\n",
      "Enter Quantity of the Product: 1\n",
      "Enter Price: 500\n",
      "Enter Name of the Product: Trouser\n",
      "Enter Quantity of the Product: 1\n",
      "Enter Price: 500\n",
      "Enter Name of the Product: Shoe\n",
      "Enter Quantity of the Product: 1\n",
      "Enter Price: 200\n",
      "Product Name: Shirt\n",
      "Product Quatity: 1\n",
      "Product Rate: 500.0\n",
      "**************************************\n",
      "Product Name: Trouser\n",
      "Product Quatity: 1\n",
      "Product Rate: 500.0\n",
      "**************************************\n",
      "Product Name: Shoe\n",
      "Product Quatity: 1\n",
      "Product Rate: 200.0\n",
      "**************************************\n",
      "Total price: Rs.  1200.0\n",
      "Discount 15% : Rs.  180.0\n",
      "Final Amount to be Paid : Rs.1020.0\n"
     ]
    }
   ],
   "source": [
    "name = []\n",
    "quantity = []\n",
    "rate = []\n",
    "for i in range(3):\n",
    "    prod = input(\"Enter Name of the Product: \")\n",
    "    quant = int(input(\"Enter Quantity of the Product: \"))\n",
    "    price = float(input(\"Enter Price: \"))\n",
    "    name.append(prod)\n",
    "    quantity.append(quant)\n",
    "    rate.append(price)\n",
    "    i+=1\n",
    "Total_price = sum(rate)\n",
    "if Total_price>2000:\n",
    "    dis = Total_price * 0.2\n",
    "    disp(name[0], quantity[0], rate[0])\n",
    "    disp(name[1], quantity[1], rate[1])\n",
    "    disp(name[2], quantity[2], rate[2])\n",
    "    print('Total price: Rs. ',Total_price )\n",
    "    print('Discount 20% : Rs. ',dis)\n",
    "    print(f'Final Amount to be Paid : Rs.{Total_price-dis}')\n",
    "elif Total_price>1500 and Total_price<1999:\n",
    "    dis = Total_price * 0.15\n",
    "    disp(name[0], quantity[0], rate[0])\n",
    "    disp(name[1], quantity[1], rate[1])\n",
    "    disp(name[2], quantity[2], rate[2])\n",
    "    print('Total price: Rs.',Total_price )\n",
    "    print('Discount 15% : Rs. ',dis)\n",
    "    print(f'Final Amount to be Paid : Rs.{Total_price-dis}')\n",
    "elif Total_price>1000 and Total_price<1499:\n",
    "    dis = Total_price * 0.15\n",
    "    disp(name[0], quantity[0], rate[0])\n",
    "    disp(name[1], quantity[1], rate[1])\n",
    "    disp(name[2], quantity[2], rate[2])\n",
    "    print('Total price: Rs. ',Total_price )\n",
    "    print('Discount 15% : Rs. ',dis)\n",
    "    print(f'Final Amount to be Paid : Rs.{Total_price-dis}')\n"
   ]
  },
  {
   "cell_type": "markdown",
   "id": "7273fd20",
   "metadata": {},
   "source": [
    "### 4. Evaluate the expressions using pen and paper first and then print the value."
   ]
  },
  {
   "cell_type": "markdown",
   "id": "d9320e15",
   "metadata": {},
   "source": [
    "#### X1 = (11+31+23+8+7+5)/((1-(1/2)-(1/20)))\n",
    "#### X2 = (((10* 8) + 8 - ((7//5)%(5**4)))&3)|(2<<1)"
   ]
  },
  {
   "cell_type": "code",
   "execution_count": 1,
   "id": "44e0a3cf",
   "metadata": {},
   "outputs": [
    {
     "name": "stdout",
     "output_type": "stream",
     "text": [
      "188.88888888888889\n",
      "7\n"
     ]
    }
   ],
   "source": [
    "X1 = (11+31+23+8+7+5)/((1-(1/2)-(1/20)))\n",
    "X2 = (((10* 8) + 8 - ((7//5)%(5**4)))&3)|(2<<1)\n",
    "print(X1)\n",
    "print(X2)"
   ]
  },
  {
   "cell_type": "markdown",
   "id": "8b845d2f",
   "metadata": {},
   "source": [
    "### 5. Write a program to accept name, marks for the three subjects and find the total marks secured, average and also display the class obtained."
   ]
  },
  {
   "cell_type": "markdown",
   "id": "58a2cc1c",
   "metadata": {},
   "source": [
    "#### Class I - above 80%\n",
    "#### Class II - 60% to 80%\n",
    "#### Pass class - 40% to 59% and\n",
    "#### Fail otherwise\n",
    "### Print a message as \"congratulations << your name >>, you secured a total of << total marks>>, and your class is << class>>\""
   ]
  },
  {
   "cell_type": "code",
   "execution_count": 2,
   "id": "44291818",
   "metadata": {},
   "outputs": [],
   "source": [
    "def msg(name, tot, cls):\n",
    "    print(f'congratulations {name}, you secured a total of {tot}, and your class is {cls}')"
   ]
  },
  {
   "cell_type": "code",
   "execution_count": 7,
   "id": "8ee69131",
   "metadata": {
    "scrolled": true
   },
   "outputs": [
    {
     "name": "stdout",
     "output_type": "stream",
     "text": [
      "Enter student Name:Tom\n",
      "Enter Mark 1:56\n",
      "Enter Mark 2:76\n",
      "Enter Mark 3:87\n",
      "congratulations Tom, you secured a total of 219, and your class is II\n"
     ]
    }
   ],
   "source": [
    "st_name = input('Enter student Name:')\n",
    "M1 = int(input('Enter Mark 1:'))\n",
    "M2 = int(input('Enter Mark 2:'))\n",
    "M3 = int(input('Enter Mark 3:'))\n",
    "tot = M1+M2+M3\n",
    "avg = tot/300\n",
    "per = avg*100\n",
    "if per > 80:\n",
    "    cls = 'I'\n",
    "    msg(st_name,tot,cls)\n",
    "elif per>=60 and per<=80:\n",
    "    cls= 'II'\n",
    "    msg(st_name,tot,cls)\n",
    "elif per >=40 and per<60:\n",
    "    cls = 'Pass'\n",
    "    msg(st_name,tot,cls)\n",
    "else:\n",
    "    cls = 'Fail'\n",
    "    msg(st_name,tot,cls)"
   ]
  },
  {
   "cell_type": "markdown",
   "id": "b55a67c2",
   "metadata": {},
   "source": [
    "### 6. Read a number from keyboard. Print whether it is odd number, even number, positive number, negative number or zero. Also, print if its ASCII value represents a lower case or upper case letter or digit."
   ]
  },
  {
   "cell_type": "code",
   "execution_count": 14,
   "id": "b6a23fe0",
   "metadata": {},
   "outputs": [
    {
     "name": "stdout",
     "output_type": "stream",
     "text": [
      "Enter a number: 3\n",
      "3 is odd\n",
      "3 is positive\n",
      "3 represents a digit\n"
     ]
    }
   ],
   "source": [
    "# read input from user\n",
    "num = int(input(\"Enter a number: \"))\n",
    "\n",
    "# check if number is even or odd\n",
    "if num % 2 == 0:\n",
    "    print(num, \"is even\")\n",
    "else:\n",
    "    print(num, \"is odd\")\n",
    "\n",
    "# check if number is positive, negative or zero\n",
    "if num > 0:\n",
    "    print(num, \"is positive\")\n",
    "elif num < 0:\n",
    "    print(num, \"is negative\")\n",
    "else:\n",
    "    print(num, \"is zero\")\n",
    "\n",
    "# check if ASCII value represents a lower case or upper case letter or digit\n",
    "ascii_val = ord(str(num))\n",
    "if 48 <= ascii_val <= 57:\n",
    "    print(num, \"represents a digit\")\n",
    "elif 65 <= ascii_val <= 90:\n",
    "    print(num, \"represents an uppercase letter\")\n",
    "elif 97 <= ascii_val <= 122:\n",
    "    print(num, \"represents a lowercase letter\")\n",
    "else:\n",
    "    print(num, \"does not represent a digit or a letter\")\n"
   ]
  },
  {
   "cell_type": "code",
   "execution_count": null,
   "id": "cdda8f9b",
   "metadata": {},
   "outputs": [],
   "source": []
  }
 ],
 "metadata": {
  "kernelspec": {
   "display_name": "Python 3 (ipykernel)",
   "language": "python",
   "name": "python3"
  },
  "language_info": {
   "codemirror_mode": {
    "name": "ipython",
    "version": 3
   },
   "file_extension": ".py",
   "mimetype": "text/x-python",
   "name": "python",
   "nbconvert_exporter": "python",
   "pygments_lexer": "ipython3",
   "version": "3.9.13"
  }
 },
 "nbformat": 4,
 "nbformat_minor": 5
}
